{
 "cells": [
  {
   "cell_type": "code",
   "execution_count": 1,
   "metadata": {},
   "outputs": [],
   "source": [
    "import csv, json, re\n",
    "from pandas.io.json._table_schema import build_table_schema\n",
    "import requests\n",
    "from vnstock import *"
   ]
  },
  {
   "cell_type": "code",
   "execution_count": 2,
   "metadata": {},
   "outputs": [],
   "source": [
    "def write_json_schema(df, file):\n",
    "    schema = build_table_schema(df, index=False)\n",
    "    schema = schema['fields']\n",
    "    schema = str(schema)\n",
    "    schema = re.sub(\"\\[\", \"\", schema)\n",
    "    schema = re.sub(\"\\]\", \"\", schema)\n",
    "    schema = re.sub(\"'\", \"\\\"\", schema)\n",
    "    schema = re.sub(\"{\\\"name\\\": \", \"\", schema)\n",
    "    schema = re.sub(\", \\\"type\\\"\", \": {\\\"type\\\"\", schema)\n",
    "\n",
    "\n",
    "    header = \"\"\"\n",
    "    {\n",
    "        \"type\": \"object\",\n",
    "        \"description\": \"\",\n",
    "        \"properties\": {\n",
    "    \"\"\"\n",
    "\n",
    "    ending = \"\"\"\n",
    "        }\n",
    "    }\n",
    "    \"\"\"\n",
    "    schema = header + schema + ending\n",
    "    f = open(file, \"w\")\n",
    "    f.write(schema)\n",
    "    f.close()\n",
    "\n",
    "    return schema"
   ]
  },
  {
   "cell_type": "code",
   "execution_count": 5,
   "metadata": {},
   "outputs": [
    {
     "data": {
      "text/plain": [
       "'\\n    {\\n        \"type\": \"object\",\\n        \"description\": \"\",\\n        \"properties\": {\\n    \"industryEn\": {\"type\": \"string\"}, \"ticker\": {\"type\": \"string\"}, \"valuation\": {\"type\": \"number\"}, \"pe\": {\"type\": \"integer\"}, \"pb\": {\"type\": \"integer\"}, \"ps\": {\"type\": \"string\"}, \"evebitda\": {\"type\": \"string\"}, \"dividendRate\": {\"type\": \"integer\"}\\n        }\\n    }\\n    '"
      ]
     },
     "execution_count": 5,
     "metadata": {},
     "output_type": "execute_result"
    }
   ],
   "source": [
    "generalrating = general_rating(\"TCB\")\n",
    "write_json_schema(valuation_rating(\"TCB\"), \"source-tcbs-valuation-rating/source_tcbs_valuation_rating/schemas/valuation_rating.json\")"
   ]
  },
  {
   "cell_type": "code",
   "execution_count": null,
   "metadata": {},
   "outputs": [],
   "source": [
    "def csv_to_json(csvFilePath, jsonFilePath):\n",
    "    jsonArray = []\n",
    "      \n",
    "    #read csv file\n",
    "    with open(csvFilePath, encoding='utf-8') as csvf: \n",
    "        #load csv file data using csv library's dictionary reader\n",
    "        csvReader = csv.DictReader(csvf) \n",
    "\n",
    "        #convert each csv row into python dict\n",
    "        for row in csvReader: \n",
    "            #add this python dict to json array\n",
    "            if len(row['ticker']) < 4:\n",
    "                jsonArray.append(row['ticker'])\n",
    "    \n",
    "    jsonArray = re.sub(' ', '', str(jsonArray)) \n",
    "    jsonArray = re.sub('\\'', '', str(jsonArray))\n",
    "    jsonArray = jsonArray[1:-1]\n",
    "    #convert python jsonArray to JSON String and write to file\n",
    "    with open(jsonFilePath, 'w', encoding='utf-8') as f: \n",
    "        f.write(jsonArray)"
   ]
  },
  {
   "cell_type": "code",
   "execution_count": null,
   "metadata": {},
   "outputs": [],
   "source": [
    "csvFilePath = r'/home/jazzdung/Library/Downloads/vn_stock_listing_companies_2023-05-20.csv'\n",
    "jsonFilePath = r'symbol.txt'\n",
    "org = csv_to_json(csvFilePath, jsonFilePath)"
   ]
  },
  {
   "cell_type": "code",
   "execution_count": null,
   "metadata": {},
   "outputs": [],
   "source": [
    "def write_configured_catalog(df_list, file):\n",
    "    final_json = \"\"\"\n",
    "    {\n",
    "    \"streams\": [\n",
    "    \"\"\"\n",
    "\n",
    "    for df in df_list:\n",
    "        schema = build_table_schema(df)\n",
    "        schema = schema['fields']\n",
    "        schema = str(schema[1:])\n",
    "        schema = re.sub(\"\\[\", \"\", schema)\n",
    "        schema = re.sub(\"\\]\", \"\", schema)\n",
    "        schema = re.sub(\"'\", \"\\\"\", schema)\n",
    "        schema = re.sub(\"{\\\"name\\\": \", \"\", schema)\n",
    "        schema = re.sub(\", \\\"type\\\"\", \": {\\\"type\\\"\", schema)\n",
    "\n",
    "\n",
    "        header = \"\"\"\n",
    "        {\n",
    "            \"stream\": {\n",
    "            \"name\": \"balance_sheet\",\n",
    "            \"description\": \"Stock data price history\",\n",
    "            \"json_schema\": {\n",
    "                \"$schema\": \"http://json-schema.org/draft-04/schema#\",\n",
    "        \"\"\"\n",
    "\n",
    "        ending = \"\"\"\n",
    "            },\n",
    "            \"supported_sync_modes\": [\"full_refresh\"]\n",
    "            },\n",
    "            \"sync_mode\": \"full_refresh\",\n",
    "            \"destination_sync_mode\": \"append\"\n",
    "        }\n",
    "        \"\"\"\n",
    "\n",
    "        schema = header + schema + ending\n",
    "\n",
    "        final_json += schema\n",
    "    \n",
    "    final_json += \"] }\"\n",
    "    f = open(file, \"w\")\n",
    "    f.write(final_json)\n",
    "    f.close()\n",
    "\n",
    "    return schema"
   ]
  },
  {
   "cell_type": "code",
   "execution_count": null,
   "metadata": {},
   "outputs": [],
   "source": [
    "balancesheet = financial_flow('TCB', 'balancesheet','yearly')\n",
    "incomestatement = financial_flow('TCB', 'incomestatement','yearly')\n",
    "cashflow = financial_flow('TCB', 'cashflow','yearly')\n",
    "\n",
    "write_configured_catalog([generalrating], \"integration_tests/configured_catalog.json\")"
   ]
  },
  {
   "cell_type": "code",
   "execution_count": 9,
   "metadata": {},
   "outputs": [
    {
     "name": "stdout",
     "output_type": "stream",
     "text": [
      "{'ticker': 'TCB', 'quarter': 5, 'year': 2022, 'revenue': 30290, 'yearRevenueGrowth': 0.135, 'quarterRevenueGrowth': None, 'costOfGoodSold': None, 'grossProfit': None, 'operationExpense': -13398, 'operationProfit': 40902, 'yearOperationProfitGrowth': 0.103, 'quarterOperationProfitGrowth': None, 'interestExpense': None, 'preTaxProfit': 25568, 'postTaxProfit': 20436, 'shareHolderIncome': 20150, 'yearShareHolderIncomeGrowth': 0.116, 'quarterShareHolderIncomeGrowth': None, 'investProfit': -83, 'serviceProfit': 8527, 'otherProfit': 2167, 'provisionExpense': -1936, 'operationIncome': 27504, 'ebitda': None}\n",
      "{'ticker': 'TCB', 'quarter': 5, 'year': 2021, 'revenue': 26699, 'yearRevenueGrowth': 0.424, 'quarterRevenueGrowth': None, 'costOfGoodSold': None, 'grossProfit': None, 'operationExpense': -11173, 'operationProfit': 37076, 'yearOperationProfitGrowth': 0.371, 'quarterOperationProfitGrowth': None, 'interestExpense': None, 'preTaxProfit': 23238, 'postTaxProfit': 18415, 'shareHolderIncome': 18052, 'yearShareHolderIncomeGrowth': 0.465, 'quarterShareHolderIncomeGrowth': None, 'investProfit': 2192, 'serviceProfit': 6382, 'otherProfit': 1803, 'provisionExpense': -2665, 'operationIncome': 25903, 'ebitda': None}\n",
      "{'ticker': 'TCB', 'quarter': 5, 'year': 2020, 'revenue': 18751, 'yearRevenueGrowth': 0.315, 'quarterRevenueGrowth': None, 'costOfGoodSold': None, 'grossProfit': None, 'operationExpense': -8631, 'operationProfit': 27043, 'yearOperationProfitGrowth': 0.284, 'quarterOperationProfitGrowth': None, 'interestExpense': None, 'preTaxProfit': 15800, 'postTaxProfit': 12582, 'shareHolderIncome': 12325, 'yearShareHolderIncomeGrowth': 0.223, 'quarterShareHolderIncomeGrowth': None, 'investProfit': 1823, 'serviceProfit': 4189, 'otherProfit': 2279, 'provisionExpense': -2611, 'operationIncome': 18411, 'ebitda': None}\n",
      "{'ticker': 'TCB', 'quarter': 5, 'year': 2019, 'revenue': 14258, 'yearRevenueGrowth': 0.252, 'quarterRevenueGrowth': None, 'costOfGoodSold': None, 'grossProfit': None, 'operationExpense': -7313, 'operationProfit': 21068, 'yearOperationProfitGrowth': 0.148, 'quarterOperationProfitGrowth': None, 'interestExpense': None, 'preTaxProfit': 12838, 'postTaxProfit': 10226, 'shareHolderIncome': 10075, 'yearShareHolderIncomeGrowth': 0.191, 'quarterShareHolderIncomeGrowth': None, 'investProfit': 1750, 'serviceProfit': 3253, 'otherProfit': 1807, 'provisionExpense': -917, 'operationIncome': 13756, 'ebitda': None}\n",
      "{'ticker': 'TCB', 'quarter': 5, 'year': 2018, 'revenue': 11390, 'yearRevenueGrowth': 0.275, 'quarterRevenueGrowth': None, 'costOfGoodSold': None, 'grossProfit': None, 'operationExpense': -5843, 'operationProfit': 18350, 'yearOperationProfitGrowth': 0.115, 'quarterOperationProfitGrowth': None, 'interestExpense': None, 'preTaxProfit': 10661, 'postTaxProfit': 8474, 'shareHolderIncome': 8463, 'yearShareHolderIncomeGrowth': 0.313, 'quarterShareHolderIncomeGrowth': None, 'investProfit': 2053, 'serviceProfit': 3273, 'otherProfit': 1634, 'provisionExpense': -1846, 'operationIncome': 12507, 'ebitda': None}\n",
      "{'ticker': 'TCB', 'quarter': 5, 'year': 2017, 'revenue': 8930, 'yearRevenueGrowth': 0.097, 'quarterRevenueGrowth': None, 'costOfGoodSold': None, 'grossProfit': None, 'operationExpense': -4812, 'operationProfit': 16458, 'yearOperationProfitGrowth': 0.381, 'quarterOperationProfitGrowth': None, 'interestExpense': None, 'preTaxProfit': 8036, 'postTaxProfit': 6446, 'shareHolderIncome': 6446, 'yearShareHolderIncomeGrowth': 1.047, 'quarterShareHolderIncomeGrowth': None, 'investProfit': 1887, 'serviceProfit': 3926, 'otherProfit': 1715, 'provisionExpense': -3609, 'operationIncome': 11646, 'ebitda': None}\n",
      "{'ticker': 'TCB', 'quarter': 5, 'year': 2016, 'revenue': 8142, 'yearRevenueGrowth': 0.129, 'quarterRevenueGrowth': None, 'costOfGoodSold': None, 'grossProfit': None, 'operationExpense': -4261, 'operationProfit': 11919, 'yearOperationProfitGrowth': 0.276, 'quarterOperationProfitGrowth': None, 'interestExpense': None, 'preTaxProfit': 3997, 'postTaxProfit': 3149, 'shareHolderIncome': 3149, 'yearShareHolderIncomeGrowth': 1.059, 'quarterShareHolderIncomeGrowth': None, 'investProfit': 847, 'serviceProfit': 1956, 'otherProfit': 974, 'provisionExpense': -3661, 'operationIncome': 7658, 'ebitda': None}\n",
      "{'ticker': 'TCB', 'quarter': 5, 'year': 2015, 'revenue': 7214, 'yearRevenueGrowth': 0.229, 'quarterRevenueGrowth': None, 'costOfGoodSold': None, 'grossProfit': None, 'operationExpense': -3679, 'operationProfit': 9344, 'yearOperationProfitGrowth': 0.333, 'quarterOperationProfitGrowth': None, 'interestExpense': None, 'preTaxProfit': 2037, 'postTaxProfit': 1529, 'shareHolderIncome': 1529, 'yearShareHolderIncomeGrowth': 0.413, 'quarterShareHolderIncomeGrowth': None, 'investProfit': -30, 'serviceProfit': 1272, 'otherProfit': 888, 'provisionExpense': -3628, 'operationIncome': 5665, 'ebitda': None}\n",
      "{'ticker': 'TCB', 'quarter': 5, 'year': 2014, 'revenue': 5871, 'yearRevenueGrowth': 0.354, 'quarterRevenueGrowth': None, 'costOfGoodSold': None, 'grossProfit': None, 'operationExpense': -3309, 'operationProfit': 7007, 'yearOperationProfitGrowth': 0.241, 'quarterOperationProfitGrowth': None, 'interestExpense': None, 'preTaxProfit': 1417, 'postTaxProfit': 1082, 'shareHolderIncome': 1082, 'yearShareHolderIncomeGrowth': 0.641, 'quarterShareHolderIncomeGrowth': None, 'investProfit': 189, 'serviceProfit': 1024, 'otherProfit': -77, 'provisionExpense': -2281, 'operationIncome': 3698, 'ebitda': None}\n",
      "{'ticker': 'TCB', 'quarter': 5, 'year': 2013, 'revenue': 4336, 'yearRevenueGrowth': -0.152, 'quarterRevenueGrowth': None, 'costOfGoodSold': None, 'grossProfit': None, 'operationExpense': -3356, 'operationProfit': 5648, 'yearOperationProfitGrowth': -0.02, 'quarterOperationProfitGrowth': None, 'interestExpense': None, 'preTaxProfit': 878, 'postTaxProfit': 659, 'shareHolderIncome': 659, 'yearShareHolderIncomeGrowth': -0.139, 'quarterShareHolderIncomeGrowth': None, 'investProfit': 162, 'serviceProfit': 736, 'otherProfit': 414, 'provisionExpense': -1414, 'operationIncome': 2292, 'ebitda': None}\n",
      "{'ticker': 'TCB', 'quarter': 5, 'year': 2012, 'revenue': 5116, 'yearRevenueGrowth': -0.035, 'quarterRevenueGrowth': None, 'costOfGoodSold': None, 'grossProfit': None, 'operationExpense': -3294, 'operationProfit': 5761, 'yearOperationProfitGrowth': -0.135, 'quarterOperationProfitGrowth': None, 'interestExpense': None, 'preTaxProfit': 1018, 'postTaxProfit': 766, 'shareHolderIncome': 766, 'yearShareHolderIncomeGrowth': -0.757, 'quarterShareHolderIncomeGrowth': None, 'investProfit': -281, 'serviceProfit': 565, 'otherProfit': 362, 'provisionExpense': -1449, 'operationIncome': 2467, 'ebitda': None}\n",
      "{'ticker': 'TCB', 'quarter': 5, 'year': 2011, 'revenue': 5298, 'yearRevenueGrowth': 0.664, 'quarterRevenueGrowth': None, 'costOfGoodSold': None, 'grossProfit': None, 'operationExpense': -2099, 'operationProfit': 6662, 'yearOperationProfitGrowth': 0.412, 'quarterOperationProfitGrowth': None, 'interestExpense': None, 'preTaxProfit': 4221, 'postTaxProfit': 3154, 'shareHolderIncome': 3154, 'yearShareHolderIncomeGrowth': 0.522, 'quarterShareHolderIncomeGrowth': None, 'investProfit': -330, 'serviceProfit': 1150, 'otherProfit': 543, 'provisionExpense': -342, 'operationIncome': 4563, 'ebitda': None}\n",
      "{'ticker': 'TCB', 'quarter': 5, 'year': 2010, 'revenue': 3184, 'yearRevenueGrowth': 0.274, 'quarterRevenueGrowth': None, 'costOfGoodSold': None, 'grossProfit': None, 'operationExpense': -1588, 'operationProfit': 4719, 'yearOperationProfitGrowth': 0.204, 'quarterOperationProfitGrowth': None, 'interestExpense': None, 'preTaxProfit': 2744, 'postTaxProfit': 2073, 'shareHolderIncome': 2073, 'yearShareHolderIncomeGrowth': 0.219, 'quarterShareHolderIncomeGrowth': None, 'investProfit': 78, 'serviceProfit': 930, 'otherProfit': 527, 'provisionExpense': -388, 'operationIncome': 3131, 'ebitda': None}\n",
      "{'ticker': 'TCB', 'quarter': 5, 'year': 2009, 'revenue': 2500, 'yearRevenueGrowth': 0.42, 'quarterRevenueGrowth': None, 'costOfGoodSold': None, 'grossProfit': None, 'operationExpense': -1184, 'operationProfit': 3918, 'yearOperationProfitGrowth': 0.249, 'quarterOperationProfitGrowth': None, 'interestExpense': None, 'preTaxProfit': 2253, 'postTaxProfit': 1700, 'shareHolderIncome': 1700, 'yearShareHolderIncomeGrowth': 0.437, 'quarterShareHolderIncomeGrowth': None, 'investProfit': 599, 'serviceProfit': 641, 'otherProfit': 178, 'provisionExpense': -481, 'operationIncome': 2734, 'ebitda': None}\n",
      "{'ticker': 'TCB', 'quarter': 5, 'year': 2008, 'revenue': 1761, 'yearRevenueGrowth': 0.903, 'quarterRevenueGrowth': None, 'costOfGoodSold': None, 'grossProfit': None, 'operationExpense': -911, 'operationProfit': 3138, 'yearOperationProfitGrowth': 1.585, 'quarterOperationProfitGrowth': None, 'interestExpense': None, 'preTaxProfit': 1616, 'postTaxProfit': 1183, 'shareHolderIncome': 1183, 'yearShareHolderIncomeGrowth': 1.318, 'quarterShareHolderIncomeGrowth': None, 'investProfit': 884, 'serviceProfit': 483, 'otherProfit': 10, 'provisionExpense': -612, 'operationIncome': 2228, 'ebitda': None}\n",
      "{'ticker': 'TCB', 'quarter': 5, 'year': 2007, 'revenue': 925, 'yearRevenueGrowth': 1.023, 'quarterRevenueGrowth': None, 'costOfGoodSold': None, 'grossProfit': None, 'operationExpense': -425, 'operationProfit': 1214, 'yearOperationProfitGrowth': 0.986, 'quarterOperationProfitGrowth': None, 'interestExpense': None, 'preTaxProfit': 710, 'postTaxProfit': 510, 'shareHolderIncome': 510, 'yearShareHolderIncomeGrowth': 0.987, 'quarterShareHolderIncomeGrowth': None, 'investProfit': 109, 'serviceProfit': 177, 'otherProfit': 3, 'provisionExpense': -79, 'operationIncome': 789, 'ebitda': None}\n",
      "{'ticker': 'TCB', 'quarter': 5, 'year': 2006, 'revenue': 457, 'yearRevenueGrowth': 0.302, 'quarterRevenueGrowth': None, 'costOfGoodSold': None, 'grossProfit': None, 'operationExpense': -224, 'operationProfit': 611, 'yearOperationProfitGrowth': 0.387, 'quarterOperationProfitGrowth': None, 'interestExpense': None, 'preTaxProfit': 357, 'postTaxProfit': 257, 'shareHolderIncome': 257, 'yearShareHolderIncomeGrowth': 0.246, 'quarterShareHolderIncomeGrowth': None, 'investProfit': 13, 'serviceProfit': 101, 'otherProfit': 39, 'provisionExpense': -31, 'operationIncome': 387, 'ebitda': None}\n",
      "{'ticker': 'TCB', 'quarter': 5, 'year': 2005, 'revenue': 351, 'yearRevenueGrowth': 0.981, 'quarterRevenueGrowth': None, 'costOfGoodSold': None, 'grossProfit': None, 'operationExpense': -155, 'operationProfit': 441, 'yearOperationProfitGrowth': 1.002, 'quarterOperationProfitGrowth': None, 'interestExpense': None, 'preTaxProfit': 286, 'postTaxProfit': 206, 'shareHolderIncome': 206, 'yearShareHolderIncomeGrowth': 1.669, 'quarterShareHolderIncomeGrowth': None, 'investProfit': 8, 'serviceProfit': 67, 'otherProfit': 15, 'provisionExpense': 0, 'operationIncome': 286, 'ebitda': None}\n",
      "{'ticker': 'TCB', 'quarter': 5, 'year': 2004, 'revenue': 177, 'yearRevenueGrowth': 0.598, 'quarterRevenueGrowth': None, 'costOfGoodSold': None, 'grossProfit': None, 'operationExpense': -90, 'operationProfit': 220, 'yearOperationProfitGrowth': 0.543, 'quarterOperationProfitGrowth': None, 'interestExpense': None, 'preTaxProfit': 107, 'postTaxProfit': 77, 'shareHolderIncome': 77, 'yearShareHolderIncomeGrowth': 1.537, 'quarterShareHolderIncomeGrowth': None, 'investProfit': 3, 'serviceProfit': 35, 'otherProfit': 6, 'provisionExpense': -23, 'operationIncome': 130, 'ebitda': None}\n",
      "{'ticker': 'TCB', 'quarter': 5, 'year': 2003, 'revenue': 111, 'yearRevenueGrowth': 0.646, 'quarterRevenueGrowth': None, 'costOfGoodSold': None, 'grossProfit': None, 'operationExpense': -53, 'operationProfit': 143, 'yearOperationProfitGrowth': 0.59, 'quarterOperationProfitGrowth': None, 'interestExpense': None, 'preTaxProfit': 42, 'postTaxProfit': 30, 'shareHolderIncome': 30, 'yearShareHolderIncomeGrowth': 4.698, 'quarterShareHolderIncomeGrowth': None, 'investProfit': 1, 'serviceProfit': 25, 'otherProfit': 5, 'provisionExpense': -48, 'operationIncome': 90, 'ebitda': None}\n",
      "{'ticker': 'TCB', 'quarter': 5, 'year': 2002, 'revenue': 67, 'yearRevenueGrowth': None, 'quarterRevenueGrowth': None, 'costOfGoodSold': None, 'grossProfit': None, 'operationExpense': -37, 'operationProfit': 90, 'yearOperationProfitGrowth': None, 'quarterOperationProfitGrowth': None, 'interestExpense': None, 'preTaxProfit': 5, 'postTaxProfit': 5, 'shareHolderIncome': 5, 'yearShareHolderIncomeGrowth': None, 'quarterShareHolderIncomeGrowth': None, 'investProfit': 7, 'serviceProfit': 15, 'otherProfit': 0, 'provisionExpense': -47, 'operationIncome': 52, 'ebitda': None}\n"
     ]
    }
   ],
   "source": [
    "\n",
    "url = f'https://apipubaws.tcbs.com.vn/tcanalysis/v1/finance/TCB/incomestatement?yearly=1&isAll=true'\n",
    "\n",
    "response = requests.get(url).json()\n",
    "\n",
    "for record in response:\n",
    "    print(record)"
   ]
  }
 ],
 "metadata": {
  "kernelspec": {
   "display_name": "Python 3",
   "language": "python",
   "name": "python3"
  },
  "language_info": {
   "codemirror_mode": {
    "name": "ipython",
    "version": 3
   },
   "file_extension": ".py",
   "mimetype": "text/x-python",
   "name": "python",
   "nbconvert_exporter": "python",
   "pygments_lexer": "ipython3",
   "version": "3.10.6"
  },
  "orig_nbformat": 4
 },
 "nbformat": 4,
 "nbformat_minor": 2
}
