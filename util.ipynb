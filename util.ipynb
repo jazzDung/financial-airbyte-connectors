{
 "cells": [
  {
   "cell_type": "code",
   "execution_count": null,
   "metadata": {},
   "outputs": [],
   "source": [
    "import csv, json, re\n",
    "from pandas.io.json._table_schema import build_table_schema"
   ]
  },
  {
   "cell_type": "code",
   "execution_count": null,
   "metadata": {},
   "outputs": [],
   "source": [
    "def csv_to_json(csvFilePath, jsonFilePath):\n",
    "    jsonArray = []\n",
    "      \n",
    "    #read csv file\n",
    "    with open(csvFilePath, encoding='utf-8') as csvf: \n",
    "        #load csv file data using csv library's dictionary reader\n",
    "        csvReader = csv.DictReader(csvf) \n",
    "\n",
    "        #convert each csv row into python dict\n",
    "        for row in csvReader: \n",
    "            #add this python dict to json array\n",
    "            if len(row['ticker']) < 4:\n",
    "                jsonArray.append(row['ticker'])\n",
    "    \n",
    "    jsonArray = re.sub(' ', '', str(jsonArray)) \n",
    "    jsonArray = re.sub('\\'', '', str(jsonArray))\n",
    "    jsonArray = jsonArray[1:-1]\n",
    "    #convert python jsonArray to JSON String and write to file\n",
    "    with open(jsonFilePath, 'w', encoding='utf-8') as f: \n",
    "        f.write(jsonArray)"
   ]
  },
  {
   "cell_type": "code",
   "execution_count": null,
   "metadata": {},
   "outputs": [],
   "source": [
    "csvFilePath = r'/home/jazzdung/Library/Downloads/vn_stock_listing_companies_2023-05-20.csv'\n",
    "jsonFilePath = r'symbol.txt'\n",
    "org = csv_to_json(csvFilePath, jsonFilePath)"
   ]
  },
  {
   "cell_type": "code",
   "execution_count": null,
   "metadata": {},
   "outputs": [],
   "source": [
    "def write_configured_catalog(df_list, file):\n",
    "    final_json = \"\"\"\n",
    "    {\n",
    "    \"streams\": [\n",
    "    \"\"\"\n",
    "\n",
    "    for df in df_list:\n",
    "        schema = build_table_schema(df)\n",
    "        schema = schema['fields']\n",
    "        schema = str(schema[1:])\n",
    "        schema = re.sub(\"\\[\", \"\", schema)\n",
    "        schema = re.sub(\"\\]\", \"\", schema)\n",
    "        schema = re.sub(\"'\", \"\\\"\", schema)\n",
    "        schema = re.sub(\"{\\\"name\\\": \", \"\", schema)\n",
    "        schema = re.sub(\", \\\"type\\\"\", \": {\\\"type\\\"\", schema)\n",
    "\n",
    "\n",
    "        header = \"\"\"\n",
    "        {\n",
    "            \"stream\": {\n",
    "            \"name\": \"balance_sheet\",\n",
    "            \"description\": \"Stock data price history\",\n",
    "            \"json_schema\": {\n",
    "                \"$schema\": \"http://json-schema.org/draft-04/schema#\",\n",
    "        \"\"\"\n",
    "\n",
    "        ending = \"\"\"\n",
    "            },\n",
    "            \"supported_sync_modes\": [\"full_refresh\"]\n",
    "            },\n",
    "            \"sync_mode\": \"full_refresh\",\n",
    "            \"destination_sync_mode\": \"append\"\n",
    "        }\n",
    "        \"\"\"\n",
    "\n",
    "        schema = header + schema + ending\n",
    "\n",
    "        final_json += schema\n",
    "    \n",
    "    final_json += \"] }\"\n",
    "    f = open(file, \"w\")\n",
    "    f.write(final_json)\n",
    "    f.close()\n",
    "\n",
    "    return schema"
   ]
  },
  {
   "cell_type": "code",
   "execution_count": null,
   "metadata": {},
   "outputs": [],
   "source": [
    "balancesheet = financial_flow('TCB', 'balancesheet','yearly')\n",
    "incomestatement = financial_flow('TCB', 'incomestatement','yearly')\n",
    "cashflow = financial_flow('TCB', 'cashflow','yearly')\n",
    "\n",
    "write_configured_catalog([generalrating], \"integration_tests/configured_catalog.json\")"
   ]
  }
 ],
 "metadata": {
  "language_info": {
   "name": "python"
  },
  "orig_nbformat": 4
 },
 "nbformat": 4,
 "nbformat_minor": 2
}
